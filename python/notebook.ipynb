{
 "cells": [
  {
   "cell_type": "code",
   "execution_count": 6,
   "metadata": {},
   "outputs": [
    {
     "name": "stdout",
     "output_type": "stream",
     "text": [
      "Hi archie ... here is your times table\n",
      "6 x 3 = 18\n",
      "6 x 4 = 24\n",
      "6 x 5 = 30\n",
      "6 x 6 = 36\n",
      "6 x 7 = 42\n",
      "6 x 8 = 48\n",
      "6 x 9 = 54\n"
     ]
    }
   ],
   "source": [
    "def multiples(pupilName, table, startNum, endNum):\n",
    "    print(f\"Hi {pupilName} ... here is your times table\")\n",
    "    for i in range(endNum-startNum+1):\n",
    "        print(f\"{table} x {startNum + i} = {table * (startNum + i)}\")\n",
    "\n",
    "multiples(input(\"What is your name?\\n\"), int(input(\"Enter times table, start number and end number\\n\")), int(input()), int(input()))"
   ]
  },
  {
   "cell_type": "code",
   "execution_count": null,
   "metadata": {},
   "outputs": [
    {
     "name": "stdout",
     "output_type": "stream",
     "text": [
      "3 Joe\n"
     ]
    },
    {
     "ename": "ValueError",
     "evalue": "invalid literal for int() with base 10: ''",
     "output_type": "error",
     "traceback": [
      "\u001b[0;31m---------------------------------------------------------------------------\u001b[0m",
      "\u001b[0;31mValueError\u001b[0m                                Traceback (most recent call last)",
      "Cell \u001b[0;32mIn[1], line 26\u001b[0m\n\u001b[1;32m     23\u001b[0m             \u001b[38;5;28mprint\u001b[39m(i\u001b[38;5;241m+\u001b[39m\u001b[38;5;241m1\u001b[39m, names[i])\n\u001b[1;32m     25\u001b[0m \u001b[38;5;28;01mwhile\u001b[39;00m \u001b[38;5;28;01mTrue\u001b[39;00m:\n\u001b[0;32m---> 26\u001b[0m     choice \u001b[38;5;241m=\u001b[39m \u001b[43mdisplayMenu\u001b[49m\u001b[43m(\u001b[49m\u001b[43m)\u001b[49m\n\u001b[1;32m     28\u001b[0m     \u001b[38;5;28;01mif\u001b[39;00m choice \u001b[38;5;241m==\u001b[39m \u001b[38;5;241m1\u001b[39m:\n\u001b[1;32m     29\u001b[0m         addName()\n",
      "Cell \u001b[0;32mIn[1], line 4\u001b[0m, in \u001b[0;36mdisplayMenu\u001b[0;34m()\u001b[0m\n\u001b[1;32m      3\u001b[0m \u001b[38;5;28;01mdef\u001b[39;00m \u001b[38;5;21mdisplayMenu\u001b[39m():\n\u001b[0;32m----> 4\u001b[0m     choice \u001b[38;5;241m=\u001b[39m \u001b[38;5;28;43mint\u001b[39;49m\u001b[43m(\u001b[49m\u001b[38;5;28;43minput\u001b[39;49m\u001b[43m(\u001b[49m\u001b[38;5;124;43m\"\u001b[39;49m\u001b[38;5;124;43m1. Add name\u001b[39;49m\u001b[38;5;130;43;01m\\n\u001b[39;49;00m\u001b[38;5;124;43m2. Display list\u001b[39;49m\u001b[38;5;130;43;01m\\n\u001b[39;49;00m\u001b[38;5;124;43m3. Quit\u001b[39;49m\u001b[38;5;130;43;01m\\n\u001b[39;49;00m\u001b[38;5;124;43m\"\u001b[39;49m\u001b[43m)\u001b[49m\u001b[43m)\u001b[49m\n\u001b[1;32m      5\u001b[0m     \u001b[38;5;28;01mif\u001b[39;00m choice \u001b[38;5;241m>\u001b[39m\u001b[38;5;241m=\u001b[39m \u001b[38;5;241m1\u001b[39m \u001b[38;5;129;01mand\u001b[39;00m choice \u001b[38;5;241m<\u001b[39m\u001b[38;5;241m=\u001b[39m \u001b[38;5;241m3\u001b[39m:\n\u001b[1;32m      6\u001b[0m         \u001b[38;5;28;01mreturn\u001b[39;00m choice\n",
      "\u001b[0;31mValueError\u001b[0m: invalid literal for int() with base 10: ''"
     ]
    },
    {
     "ename": "",
     "evalue": "",
     "output_type": "error",
     "traceback": [
      "\u001b[1;31mThe Kernel crashed while executing code in the current cell or a previous cell. \n",
      "\u001b[1;31mPlease review the code in the cell(s) to identify a possible cause of the failure. \n",
      "\u001b[1;31mClick <a href='https://aka.ms/vscodeJupyterKernelCrash'>here</a> for more info. \n",
      "\u001b[1;31mView Jupyter <a href='command:jupyter.viewOutput'>log</a> for further details."
     ]
    }
   ],
   "source": [
    "names = [\"\" for i in range(10)]\n",
    "\n",
    "def displayMenu():\n",
    "    choice = int(input(\"1. Add name\\n2. Display list\\n3. Quit\\n\"))\n",
    "    if choice >= 1 and choice <= 3:\n",
    "        return choice\n",
    "    else:\n",
    "        print(\"Invalid input - Please try again\")\n",
    "        return displayMenu()\n",
    "\n",
    "def addName():\n",
    "    name = input(\"Enter the name to be added to the list\\n\")\n",
    "    position = int(input(\"Enter the list location to add the name (1-10)\\n\")) - 1\n",
    "    if position >= 0 and position <= 9:\n",
    "        names[position] = name\n",
    "    else:\n",
    "        print(\"Invalid input - Please try again\")\n",
    "        addName()\n",
    "\n",
    "def displayList():\n",
    "    for i in range(10):\n",
    "        if names[i] != \"\":\n",
    "            print(i+1, names[i])\n",
    "\n",
    "while True:\n",
    "    choice = displayMenu()\n",
    "\n",
    "    if choice == 1:\n",
    "        addName()\n",
    "    elif choice == 2:\n",
    "        displayList()\n",
    "    else:\n",
    "        print(\"Program terminating\")\n",
    "        exit()"
   ]
  },
  {
   "cell_type": "code",
   "execution_count": 5,
   "metadata": {},
   "outputs": [
    {
     "name": "stdout",
     "output_type": "stream",
     "text": [
      "['', '', '', 'Hello', '', '', '', '', '', '']\n"
     ]
    }
   ],
   "source": [
    "array = [\"\",\"\",\"\",\"\",\"\",\"\",\"\",\"\",\"\",\"\"]\n",
    "array[3] = \"Hello\"\n",
    "print(array)"
   ]
  },
  {
   "cell_type": "code",
   "execution_count": null,
   "metadata": {},
   "outputs": [
    {
     "name": "stdout",
     "output_type": "stream",
     "text": [
      "Passwords are not the same\n",
      "Password has been changed successfully\n"
     ]
    }
   ],
   "source": [
    "def getPword(attempt):\n",
    "    password = \"\"\n",
    "    while len(password) < 6 or len(password) > 8:\n",
    "        if attempt == 1:\n",
    "            password = input(\"Enter a password\")\n",
    "        else:\n",
    "            password = input(\"Enter the password again\")\n",
    "    return password\n",
    "\n",
    "password1, password2 = getPword(1), getPword(2)\n",
    "\n",
    "while password1 != password2:\n",
    "    print(\"Passwords are not the same\")\n",
    "    password1, password2 = getPword(1), getPword(2)\n",
    "\n",
    "print(\"Password has been changed successfully\")"
   ]
  },
  {
   "cell_type": "code",
   "execution_count": 16,
   "metadata": {},
   "outputs": [
    {
     "name": "stdout",
     "output_type": "stream",
     "text": [
      "['empty', 'empty', 'empty', 'empty', 'empty', 'empty']\n",
      "['empty', 'empty', 'empty', 'empty', 'empty', 'empty']\n",
      "['empty', 'empty', 'empty', 'ARCHIE', 'empty', 'empty']\n",
      "['empty', 'empty', 'empty', 'empty', 'JAMIE', 'empty']\n",
      "['empty', 'empty', 'empty', 'empty', 'empty', 'empty']\n",
      "['empty', 'empty', 'empty', 'empty', 'empty', 'empty']\n",
      "['empty', 'empty', 'empty', 'empty', 'empty', 'empty']\n",
      "['empty', 'empty', 'empty', 'empty', 'empty', 'empty']\n",
      "['empty', 'empty', 'empty', 'empty', 'empty', 'empty']\n",
      "['empty', 'empty', 'empty', 'empty', 'empty', 'empty']\n",
      "['empty', 'empty', 'empty', 'empty', 'empty', 'empty']\n",
      "['empty', 'empty', 'empty', 'empty', 'empty', 'empty']\n",
      "['empty', 'empty', 'empty', 'empty', 'empty', 'empty']\n",
      "['empty', 'empty', 'empty', 'empty', 'empty', 'empty']\n",
      "['empty', 'empty', 'empty', 'empty', 'empty', 'empty']\n",
      "['empty', 'empty', 'empty', 'empty', 'empty', 'empty']\n",
      "['empty', 'empty', 'empty', 'empty', 'empty', 'empty']\n",
      "['empty', 'empty', 'empty', 'empty', 'empty', 'empty']\n",
      "['empty', 'empty', 'empty', 'empty', 'empty', 'empty']\n",
      "['empty', 'empty', 'empty', 'empty', 'empty', 'empty']\n",
      "\n",
      "\n",
      "['empty', 'empty', 'empty', 'empty', 'empty', 'empty']\n",
      "['empty', 'empty', 'empty', 'empty', 'empty', 'empty']\n",
      "['empty', 'empty', 'empty', 'ARCHIE', 'empty', 'empty']\n",
      "['empty', 'empty', 'empty', 'empty', 'empty', 'empty']\n",
      "['empty', 'empty', 'empty', 'empty', 'empty', 'empty']\n",
      "['empty', 'empty', 'empty', 'empty', 'empty', 'empty']\n",
      "['empty', 'empty', 'empty', 'empty', 'empty', 'empty']\n",
      "['empty', 'empty', 'empty', 'empty', 'empty', 'empty']\n",
      "['empty', 'empty', 'empty', 'empty', 'empty', 'empty']\n",
      "['empty', 'empty', 'empty', 'empty', 'empty', 'empty']\n",
      "['empty', 'empty', 'empty', 'empty', 'empty', 'empty']\n",
      "['empty', 'empty', 'empty', 'empty', 'empty', 'empty']\n",
      "['empty', 'empty', 'empty', 'empty', 'empty', 'empty']\n",
      "['empty', 'empty', 'empty', 'empty', 'empty', 'empty']\n",
      "['empty', 'empty', 'empty', 'empty', 'empty', 'empty']\n",
      "['empty', 'empty', 'empty', 'empty', 'empty', 'empty']\n",
      "['empty', 'empty', 'empty', 'empty', 'empty', 'empty']\n",
      "['empty', 'empty', 'empty', 'empty', 'empty', 'empty']\n",
      "['empty', 'empty', 'empty', 'empty', 'empty', 'empty']\n",
      "['empty', 'empty', 'empty', 'empty', 'empty', 'empty']\n",
      "\n",
      "\n"
     ]
    }
   ],
   "source": [
    "park = [[\"empty\" for a in range(6)] for b in range(20)]\n",
    "\n",
    "def emptyCarPark():\n",
    "    for i in range(20):\n",
    "        for j in range(6):\n",
    "            park[i][j] = \"empty\"\n",
    "\n",
    "def parkACar(reg, row, column):\n",
    "    park[row-1][column-1] = reg\n",
    "    \n",
    "def removeACar(reg):\n",
    "    for i in range(20):\n",
    "        for j in range(6):\n",
    "            if park[i][j] == reg:\n",
    "                park[i][j] = \"empty\"\n",
    "\n",
    "def displayCarParkGrid():\n",
    "    for i in range(20):\n",
    "        print(park[i])\n",
    "    print(\"\\n\")\n",
    "\n",
    "emptyCarPark()\n",
    "parkACar(\"JAMIE\",4,5)\n",
    "parkACar(\"ARCHIE\",3,4)\n",
    "displayCarParkGrid()\n",
    "removeACar(\"JAMIE\")\n",
    "displayCarParkGrid()"
   ]
  },
  {
   "cell_type": "code",
   "execution_count": 13,
   "metadata": {},
   "outputs": [
    {
     "data": {
      "text/plain": [
       "30"
      ]
     },
     "execution_count": 13,
     "metadata": {},
     "output_type": "execute_result"
    }
   ],
   "source": [
    "def sumEven(n):\n",
    "    if n == 2:\n",
    "        return 2\n",
    "    elif n < 2:\n",
    "        return 0\n",
    "    elif n % 2 == 0:\n",
    "        return n + sumEven(n-2)\n",
    "    elif n > 2:\n",
    "        return n-1 + sumEven(n-3)\n",
    "\n",
    "sumEven(11)"
   ]
  },
  {
   "cell_type": "code",
   "execution_count": 46,
   "metadata": {},
   "outputs": [
    {
     "name": "stdout",
     "output_type": "stream",
     "text": [
      "fib(10): 5.8289000000044666e-05\n",
      "fib(20): 0.0009322039999997145\n",
      "fibonacci2(10): 3.929500000010577e-05\n",
      "fibonacci2(20): 3.520299999992815e-05\n"
     ]
    }
   ],
   "source": [
    "import time\n",
    "\n",
    "def fib(n):\n",
    "    if n <= 1:\n",
    "        return n\n",
    "    else:\n",
    "        return fib(n-1) + fib(n-2)\n",
    "\n",
    "def fibonacci2(n):\n",
    "    fibNumbers = [0,1]  #list of first two Fibonacci numbers\n",
    "# now append the sum of the two previous numbers to the list    \n",
    "    for i in range(2, n+1):\n",
    "        fibNumbers.append(fibNumbers[i-1] + fibNumbers[i-2])\n",
    "    return fibNumbers[n]\n",
    "\n",
    "startTime = time.process_time()\n",
    "fib(10)\n",
    "endTime = time.process_time()\n",
    "print(f\"fib(10): {endTime - startTime}\")\n",
    "\n",
    "startTime = time.process_time()\n",
    "fib(20)\n",
    "endTime = time.process_time()\n",
    "print(f\"fib(20): {endTime - startTime}\")\n",
    "\n",
    "startTime = time.process_time()\n",
    "fibonacci2(10)\n",
    "endTime = time.process_time()\n",
    "print(f\"fibonacci2(10): {endTime - startTime}\")\n",
    "\n",
    "startTime = time.process_time()\n",
    "fibonacci2(20)\n",
    "endTime = time.process_time()\n",
    "print(f\"fibonacci2(20): {endTime - startTime}\")"
   ]
  },
  {
   "cell_type": "code",
   "execution_count": 51,
   "metadata": {},
   "outputs": [
    {
     "name": "stdout",
     "output_type": "stream",
     "text": [
      "15\n"
     ]
    }
   ],
   "source": [
    "def calc (n):\n",
    "    if n > 0:\n",
    "        n = n + calc (n - 1)\n",
    "    return n\n",
    "\n",
    "print(calc(5))"
   ]
  },
  {
   "cell_type": "code",
   "execution_count": null,
   "metadata": {},
   "outputs": [],
   "source": [
    "def test(x):\n",
    "    if x > 10:\n",
    "        return 10\n",
    "    else:\n",
    "        return x + (test(x + 1) // 2)\n",
    "\n",
    "test(7)"
   ]
  },
  {
   "cell_type": "code",
   "execution_count": null,
   "metadata": {},
   "outputs": [],
   "source": [
    "name = input(\"What is your name?\")\n",
    "print(f\"Hello {name}\")"
   ]
  },
  {
   "cell_type": "code",
   "execution_count": null,
   "metadata": {},
   "outputs": [],
   "source": [
    "if name == \"Jamie\":\n",
    "    print(\"Hello Jamie, good luck with Further Maths\")"
   ]
  },
  {
   "cell_type": "code",
   "execution_count": null,
   "metadata": {},
   "outputs": [],
   "source": [
    "while name == \"Jamie\":\n",
    "    print(\"You need to revise\")\n",
    "    name = input(\"What is your name?\")"
   ]
  },
  {
   "cell_type": "code",
   "execution_count": null,
   "metadata": {},
   "outputs": [],
   "source": [
    "class Dog:\n",
    "    species = \"Canis familiaris\"\n",
    "\n",
    "    def __init__(self, name, age):\n",
    "        self.name = name\n",
    "        self.age = age\n",
    "\n",
    "    def __str__(self):\n",
    "        return f\"{self.name} is {self.age} years old\"\n",
    "\n",
    "    def speak(self, sound):\n",
    "        return f\"{self.name} says {sound}\"\n",
    "\n",
    "class GoldenRetriever(Dog):\n",
    "    def speak(self, sound = \"Bark\"):\n",
    "        return super().speak(sound)"
   ]
  },
  {
   "cell_type": "code",
   "execution_count": 20,
   "metadata": {},
   "outputs": [
    {
     "name": "stdout",
     "output_type": "stream",
     "text": [
      "Please enter a positive integer: \n",
      "7128  is in category 2\n"
     ]
    }
   ],
   "source": [
    "y = 2\n",
    "z = 1\n",
    "print(\"Please enter a positive integer: \")\n",
    "x = int(input())\n",
    "while z!=0:\n",
    "\tz = x % y\n",
    "\tif z != 0:\n",
    "\t\ty = y + 1\n",
    "if x == y:\n",
    "    print(x, \" is in category 1\")\n",
    "else:\n",
    "    print(x, \" is in category 2\")"
   ]
  },
  {
   "cell_type": "code",
   "execution_count": 18,
   "metadata": {},
   "outputs": [
    {
     "name": "stdout",
     "output_type": "stream",
     "text": [
      "93326215443944152681699238856266700490715968264381621468592963895217599993229915608941463976156518286253697920827223758251185210916864000000000000000000000000\n"
     ]
    }
   ],
   "source": [
    "def factorial(n):\n",
    "    if n == 0:\n",
    "        return 1\n",
    "    elif n > 0:\n",
    "        return n * factorial(n-1)\n",
    "    else:\n",
    "        return -1\n",
    "    \n",
    "print(factorial(100))"
   ]
  },
  {
   "cell_type": "code",
   "execution_count": null,
   "metadata": {},
   "outputs": [
    {
     "name": "stdout",
     "output_type": "stream",
     "text": [
      "5050\n"
     ]
    }
   ],
   "source": [
    "def fibonacci(n):\n",
    "    if n == 1:\n",
    "        return 1\n",
    "    else:\n",
    "        return n + fibonacci(n-1)\n",
    "\n",
    "print(fibonacci(100))"
   ]
  },
  {
   "cell_type": "code",
   "execution_count": null,
   "metadata": {},
   "outputs": [
    {
     "name": "stdout",
     "output_type": "stream",
     "text": [
      "0 0 0\n",
      "1 0 0\n",
      "2 0 0\n",
      "3 0 0\n",
      "4 0 0\n",
      "5 1 1\n",
      "6 1 1\n",
      "7 1 1\n",
      "8 1 1\n",
      "9 1 1\n",
      "10 2 2\n",
      "11 2 2\n",
      "12 2 2\n",
      "13 2 2\n",
      "14 2 2\n",
      "15 3 3\n",
      "16 3 3\n",
      "17 3 3\n",
      "18 3 3\n",
      "19 3 3\n",
      "20 4 4\n",
      "21 4 4\n",
      "22 4 4\n",
      "23 4 4\n",
      "24 4 4\n",
      "25 6 6\n",
      "26 6 6\n",
      "27 6 6\n",
      "28 6 6\n",
      "29 6 6\n",
      "30 7 7\n",
      "31 7 7\n",
      "32 7 7\n",
      "33 7 7\n",
      "34 7 7\n",
      "35 8 8\n",
      "36 8 8\n",
      "37 8 8\n",
      "38 8 8\n",
      "39 8 8\n",
      "40 9 9\n",
      "41 9 9\n",
      "42 9 9\n",
      "43 9 9\n",
      "44 9 9\n",
      "45 10 10\n",
      "46 10 10\n",
      "47 10 10\n",
      "48 10 10\n",
      "49 10 10\n",
      "50 12 12\n",
      "51 12 12\n",
      "52 12 12\n",
      "53 12 12\n",
      "54 12 12\n",
      "55 13 13\n",
      "56 13 13\n",
      "57 13 13\n",
      "58 13 13\n",
      "59 13 13\n",
      "60 14 14\n",
      "61 14 14\n",
      "62 14 14\n",
      "63 14 14\n",
      "64 14 14\n",
      "65 15 15\n",
      "66 15 15\n",
      "67 15 15\n",
      "68 15 15\n",
      "69 15 15\n",
      "70 16 16\n",
      "71 16 16\n",
      "72 16 16\n",
      "73 16 16\n",
      "74 16 16\n",
      "75 18 18\n",
      "76 18 18\n",
      "77 18 18\n",
      "78 18 18\n",
      "79 18 18\n",
      "80 19 19\n",
      "81 19 19\n",
      "82 19 19\n",
      "83 19 19\n",
      "84 19 19\n",
      "85 20 20\n",
      "86 20 20\n",
      "87 20 20\n",
      "88 20 20\n",
      "89 20 20\n",
      "90 21 21\n",
      "91 21 21\n",
      "92 21 21\n",
      "93 21 21\n",
      "94 21 21\n",
      "95 22 22\n",
      "96 22 22\n",
      "97 22 22\n",
      "98 22 22\n",
      "99 22 22\n",
      "100 24 24\n"
     ]
    }
   ],
   "source": [
    "# Code to work out the number of 0s at the end of a factorial\n",
    "for i in range(100+1):\n",
    "    count = 0\n",
    "    fact = str(factorial(i))\n",
    "    for j in range(len(fact)):\n",
    "        if fact[len(fact)-1-j] == \"0\":\n",
    "            count += 1\n",
    "        else:\n",
    "            break\n",
    "    print(i, count, (i//5)+(i//25))"
   ]
  },
  {
   "cell_type": "code",
   "execution_count": 12,
   "metadata": {},
   "outputs": [
    {
     "name": "stdout",
     "output_type": "stream",
     "text": [
      "False\n"
     ]
    }
   ],
   "source": [
    "bags = int(input(\"How many bags: \"))\n",
    "sweets = 0\n",
    "while sweets < bags:\n",
    "    sweets = int(input(\"How many sweets: \"))\n",
    "print(sweets % 2 == bags % 2)"
   ]
  }
 ],
 "metadata": {
  "kernelspec": {
   "display_name": "Python 3",
   "language": "python",
   "name": "python3"
  },
  "language_info": {
   "codemirror_mode": {
    "name": "ipython",
    "version": 3
   },
   "file_extension": ".py",
   "mimetype": "text/x-python",
   "name": "python",
   "nbconvert_exporter": "python",
   "pygments_lexer": "ipython3",
   "version": "3.12.1"
  }
 },
 "nbformat": 4,
 "nbformat_minor": 2
}
